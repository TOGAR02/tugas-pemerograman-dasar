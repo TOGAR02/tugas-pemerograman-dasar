{
  "cells": [
    {
      "cell_type": "markdown",
      "metadata": {
        "id": "view-in-github",
        "colab_type": "text"
      },
      "source": [
        "<a href=\"https://colab.research.google.com/github/TOGAR02/tugas-pemerograman-dasar/blob/main/pertemuan_3.ipynb\" target=\"_parent\"><img src=\"https://colab.research.google.com/assets/colab-badge.svg\" alt=\"Open In Colab\"/></a>"
      ]
    },
    {
      "cell_type": "code",
      "source": [
        "# Program tahun kabisat\n",
        "\n",
        "tahun1 = int(input(\"2024: \"))\n",
        "tahun2 = int(input(\"2010: \"))\n",
        "\n",
        "# Fungsi cek kabisat\n",
        "def cek_kabisat(tahun):\n",
        "    if (tahun % 4 == 0 and tahun % 100 != 0) or (tahun % 400 == 0):\n",
        "        print(f\"{tahun} adalah tahun kabisat\")\n",
        "    else:\n",
        "        print(f\"{tahun} bukan tahun kabisat\")\n",
        "\n",
        "# Panggil untuk 2 tahun\n",
        "cek_kabisat(tahun1)\n",
        "cek_kabisat(tahun2)\n"
      ],
      "metadata": {
        "id": "QCoTXLpjbrkn",
        "outputId": "7f290b3d-b531-4709-9e11-eb5e10998f35",
        "colab": {
          "base_uri": "https://localhost:8080/"
        }
      },
      "execution_count": 12,
      "outputs": [
        {
          "output_type": "stream",
          "name": "stdout",
          "text": [
            "2024: 2024\n",
            "2010: 2010\n",
            "2024 adalah tahun kabisat\n",
            "2010 bukan tahun kabisat\n"
          ]
        }
      ]
    },
    {
      "cell_type": "code",
      "source": [
        "# Program Kasir Sederhana\n",
        "\n",
        "# Input harga 4 item\n",
        "item1 = float(input(\"Masukkan harga item 1: Rp 45000\"))\n",
        "item2 = float(input(\"Masukkan harga item 2: Rp 52000\"))\n",
        "item3 = float(input(\"Masukkan harga item 3: Rp 31000\"))\n",
        "item4 = float(input(\"Masukkan harga item 4: Rp 63000\"))\n",
        "\n",
        "# Input status member\n",
        "member = input(\"Apakah pelanggan member? (ya): \")\n",
        "\n",
        "# 1. Hitung subtotal\n",
        "subtotal = item1 + item2 + item3 + item4\n",
        "\n",
        "# 2. Hitung diskon (15% jika member dan subtotal > 100000)\n",
        "if member == \"ya\" and subtotal > 100000:\n",
        "    diskon = 0.15 * subtotal\n",
        "else:\n",
        "    diskon = 0\n",
        "\n",
        "# 3. Harga setelah diskon\n",
        "harga_setelah_diskon = subtotal - diskon\n",
        "\n",
        "# 4. Hitung PPN 11%\n",
        "ppn = 0.11 * harga_setelah_diskon\n",
        "\n",
        "# 5. Total akhir\n",
        "total_akhir = harga_setelah_diskon + ppn\n",
        "\n",
        "# Output struk\n",
        "print(\"\\n===== STRUK BELANJA =====\")\n",
        "print(f\"Subtotal        : Rp {subtotal:,.2f}\")\n",
        "print(f\"Diskon          : Rp {diskon:,.2f}\")\n",
        "print(f\"Harga setelah diskon : Rp {harga_setelah_diskon:,.2f}\")\n",
        "print(f\"PPN (11%)       : Rp {ppn:,.2f}\")\n",
        "print(f\"TOTAL AKHIR     : Rp {total_akhir:,.2f}\")\n"
      ],
      "metadata": {
        "id": "wSKYjyGKkDxx",
        "outputId": "2e09e34e-1f5b-4b0f-ce90-5f7341045467",
        "colab": {
          "base_uri": "https://localhost:8080/"
        }
      },
      "execution_count": 17,
      "outputs": [
        {
          "output_type": "stream",
          "name": "stdout",
          "text": [
            "Masukkan harga item 1: Rp 4500045000\n",
            "Masukkan harga item 2: Rp 5200052000\n",
            "Masukkan harga item 3: Rp 3100031000\n",
            "Masukkan harga item 4: Rp 6300063000\n",
            "Apakah pelanggan member? (ya): ya\n",
            "\n",
            "===== STRUK BELANJA =====\n",
            "Subtotal        : Rp 191,000.00\n",
            "Diskon          : Rp 28,650.00\n",
            "Harga setelah diskon : Rp 162,350.00\n",
            "PPN (11%)       : Rp 17,858.50\n",
            "TOTAL AKHIR     : Rp 180,208.50\n"
          ]
        }
      ]
    }
  ],
  "metadata": {
    "colab": {
      "name": "Selamat Datang di Colab",
      "toc_visible": true,
      "provenance": [],
      "include_colab_link": true
    },
    "kernelspec": {
      "display_name": "Python 3",
      "name": "python3"
    }
  },
  "nbformat": 4,
  "nbformat_minor": 0
}