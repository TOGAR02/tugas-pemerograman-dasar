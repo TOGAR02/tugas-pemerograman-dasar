{
  "cells": [
    {
      "cell_type": "markdown",
      "metadata": {
        "id": "view-in-github",
        "colab_type": "text"
      },
      "source": [
        "<a href=\"https://colab.research.google.com/github/TOGAR02/tugas-pemerograman-dasar/blob/main/pertemuan_3.ipynb\" target=\"_parent\"><img src=\"https://colab.research.google.com/assets/colab-badge.svg\" alt=\"Open In Colab\"/></a>"
      ]
    },
    {
      "cell_type": "code",
      "source": [
        "# =====: Menentukan Tahun Kabisat =====\n",
        "print(\"===: Tahun Kabisat ===\")\n",
        "\n",
        "tahun1 = int(input(\"2024: \"))\n",
        "tahun2 = int(input(\"2010: \"))\n",
        "\n",
        "# Ekspresi logika (tanpa if-else)\n",
        "kabisat1 = (tahun1 % 4 == 0 and tahun1 % 100 != 0) or (tahun1 % 400 == 0)\n",
        "kabisat2 = (tahun2 % 4 == 0 and tahun2 % 100 != 0) or (tahun2 % 400 == 0)\n",
        "\n",
        "# Output True/False\n",
        "print(\"Apakah tahun\", tahun1, \"merupakan tahun kabisat?\", kabisat1)\n",
        "print(\"Apakah tahun\", tahun2, \"merupakan tahun kabisat?\", kabisat2)"
      ],
      "metadata": {
        "colab": {
          "base_uri": "https://localhost:8080/"
        },
        "id": "rJ5EqgtUcm-m",
        "outputId": "487cc3e5-40b4-4189-cd13-f72841f464b6"
      },
      "execution_count": null,
      "outputs": [
        {
          "output_type": "stream",
          "name": "stdout",
          "text": [
            "===: Tahun Kabisat ===\n",
            "2024: 2024\n",
            "2010: 2010\n",
            "Apakah tahun 2024 merupakan tahun kabisat? True\n",
            "Apakah tahun 2010 merupakan tahun kabisat? False\n"
          ]
        }
      ]
    },
    {
      "cell_type": "code",
      "source": [
        "# Operasi Aritmatika Sederhana\n",
        "print(\"\\n===: Operasi Aritmatika ===\")\n",
        "a = float(input(\"100: \"))\n",
        "b = float(input(\"87: \"))\n",
        "\n",
        "# Operasi aritmatika\n",
        "tambah = a + b\n",
        "kurang = a - b\n",
        "kali = a * b\n",
        "bagi = a / b  # diasumsikan b ≠ 0\n",
        "\n",
        "# Output hasil\n",
        "print(\"Hasil Penjumlahan   :\", tambah)\n",
        "print(\"Hasil Pengurangan   :\", kurang)\n",
        "print(\"Hasil Perkalian     :\", kali)\n",
        "print(\"Hasil Pembagian     :\", bagi)"
      ],
      "metadata": {
        "colab": {
          "base_uri": "https://localhost:8080/"
        },
        "id": "3h4TAkwLb_uq",
        "outputId": "95f16b8c-885c-4263-aea2-55a6b240423e"
      },
      "execution_count": null,
      "outputs": [
        {
          "output_type": "stream",
          "name": "stdout",
          "text": [
            "\n",
            "===: Operasi Aritmatika ===\n",
            "100: 100\n",
            "87: 87\n",
            "Hasil Penjumlahan   : 187.0\n",
            "Hasil Pengurangan   : 13.0\n",
            "Hasil Perkalian     : 8700.0\n",
            "Hasil Pembagian     : 1.1494252873563218\n"
          ]
        }
      ]
    },
    {
      "cell_type": "code",
      "source": [
        "print(\"=== Program Kasir Sederhana (6 Item) ===\")\n",
        "\n",
        "# Input harga untuk 6 item\n",
        "harga1 = float(input(\"Masukkan harga item ke-1: Rp35000 \"))\n",
        "harga2 = float(input(\"Masukkan harga item ke-2: Rp 21000\"))\n",
        "harga3 = float(input(\"Masukkan harga item ke-3: Rp 60000\"))\n",
        "harga4 = float(input(\"Masukkan harga item ke-4: Rp 50500\"))\n",
        "harga5 = float(input(\"Masukkan harga item ke-5: Rp 19000\"))\n",
        "harga6 = float(input(\"Masukkan harga item ke-6: Rp 73000\"))\n",
        "\n",
        "# Hitung subtotal\n",
        "subtotal = harga1 + harga2 + harga3 + harga4 + harga5 + harga6\n",
        "\n",
        "# Input status member\n",
        "member = input(\"Apakah pelanggan member? (ya): \")\n",
        "\n",
        "# Hitung diskon\n",
        "diskon = 0.15 * subtotal * ((member == \"ya\") and (subtotal > 100000))\n",
        "\n",
        "# Harga setelah diskon\n",
        "harga_setelah_diskon = subtotal - diskon\n",
        "\n",
        "# Hitung PPN (11%)\n",
        "ppn = 0.11 * harga_setelah_diskon\n",
        "\n",
        "# Total akhir\n",
        "total_akhir = harga_setelah_diskon + ppn\n",
        "\n",
        "# Output\n",
        "print(\"\\n===== STRUK BELANJA =====\")\n",
        "print(\"Subtotal            : Rp\", subtotal)\n",
        "print(\"Diskon              : Rp\", diskon)\n",
        "print(\"Harga setelah diskon: Rp\", harga_setelah_diskon)\n",
        "print(\"PPN (11%)           : Rp\", ppn)\n",
        "print(\"TOTAL AKHIR         : Rp\", total_akhir)\n"
      ],
      "metadata": {
        "colab": {
          "base_uri": "https://localhost:8080/"
        },
        "id": "xSyfxJdYdgq7",
        "outputId": "cab47da0-f91a-478c-b535-e75f96d75a44"
      },
      "execution_count": null,
      "outputs": [
        {
          "output_type": "stream",
          "name": "stdout",
          "text": [
            "=== Program Kasir Sederhana (6 Item) ===\n",
            "Masukkan harga item ke-1: Rp35000 35000\n",
            "Masukkan harga item ke-2: Rp 2100021000\n",
            "Masukkan harga item ke-3: Rp 6000060000\n",
            "Masukkan harga item ke-4: Rp 5050050500\n",
            "Masukkan harga item ke-5: Rp 1900019000\n",
            "Masukkan harga item ke-6: Rp 7300073000\n",
            "Apakah pelanggan member? (ya): ya\n",
            "\n",
            "===== STRUK BELANJA =====\n",
            "Subtotal            : Rp 258500.0\n",
            "Diskon              : Rp 38775.0\n",
            "Harga setelah diskon: Rp 219725.0\n",
            "PPN (11%)           : Rp 24169.75\n",
            "TOTAL AKHIR         : Rp 243894.75\n"
          ]
        }
      ]
    }
  ],
  "metadata": {
    "colab": {
      "name": "Selamat Datang di Colab",
      "toc_visible": true,
      "provenance": [],
      "include_colab_link": true
    },
    "kernelspec": {
      "display_name": "Python 3",
      "name": "python3"
    }
  },
  "nbformat": 4,
  "nbformat_minor": 0
}