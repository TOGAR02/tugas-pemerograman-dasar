{
  "cells": [
    {
      "cell_type": "markdown",
      "metadata": {
        "id": "view-in-github",
        "colab_type": "text"
      },
      "source": [
        "<a href=\"https://colab.research.google.com/github/TOGAR02/tugas-pemerograman-dasar/blob/main/pertemuan%20ke%202.ipynb\" target=\"_parent\"><img src=\"https://colab.research.google.com/assets/colab-badge.svg\" alt=\"Open In Colab\"/></a>"
      ]
    },
    {
      "cell_type": "code",
      "source": [
        "firstname = \"togar\"\n",
        "lastname = \"simarmata\"\n",
        "age = 21\n",
        "ismarried = False\n",
        "\n",
        "print (firstname)\n",
        "print (lastname)\n",
        "print (age)\n",
        "print (ismarried)"
      ],
      "metadata": {
        "colab": {
          "base_uri": "https://localhost:8080/"
        },
        "id": "t8rW3BEDPzCb",
        "outputId": "4b19d86f-b56f-4f00-b9f7-25abde981bba"
      },
      "execution_count": 1,
      "outputs": [
        {
          "output_type": "stream",
          "name": "stdout",
          "text": [
            "togar\n",
            "simarmata\n",
            "21\n",
            "False\n"
          ]
        }
      ]
    },
    {
      "cell_type": "code",
      "source": [
        "data_diri = {\"firstname\" : 'togar', \"lastname\" : 'simarmata', \"age\" : 21, \"ismarried\" : False}\n",
        "\n",
        "print (data_diri [\"firstname\"])\n",
        "print (data_diri [\"lastname\"])\n",
        "print (data_diri [\"age\"])\n",
        "print (data_diri [\"ismarried\"])"
      ],
      "metadata": {
        "id": "RgCw4gWESm_z",
        "outputId": "2a9a3363-bee1-4137-a042-959ede18577d",
        "colab": {
          "base_uri": "https://localhost:8080/"
        }
      },
      "execution_count": 5,
      "outputs": [
        {
          "output_type": "stream",
          "name": "stdout",
          "text": [
            "togar\n",
            "simarmata\n",
            "21\n",
            "False\n"
          ]
        }
      ]
    },
    {
      "cell_type": "code",
      "source": [
        "daftar_inspeksi = [\"penambahan terhadap rencana dan desain\", \"ketersediaan bahan dan peralatan\", \"pengawasan pekerjaan\", \"kualitas konstruksi\", \"keselamatan kerja\", \"koordinasi dengan pemilik proyek\"]\n",
        "\n",
        "print (daftar_inspeksi [0])\n",
        "print (daftar_inspeksi [1])\n",
        "print (daftar_inspeksi [2])\n",
        "print (daftar_inspeksi [3])\n",
        "print (daftar_inspeksi [4])\n",
        "print (daftar_inspeksi [5])"
      ],
      "metadata": {
        "id": "goanOfFQTX3a",
        "outputId": "50d209bf-7241-4eb6-b22c-b9d27456abc8",
        "colab": {
          "base_uri": "https://localhost:8080/"
        }
      },
      "execution_count": 6,
      "outputs": [
        {
          "output_type": "stream",
          "name": "stdout",
          "text": [
            "penambahan terhadap rencana dan desain\n",
            "ketersediaan bahan dan peralatan\n",
            "pengawasan pekerjaan\n",
            "kualitas konstruksi\n",
            "keselamatan kerja\n",
            "koordinasi dengan pemilik proyek\n"
          ]
        }
      ]
    },
    {
      "cell_type": "code",
      "source": [
        "starttime = { \"HH\" : 9, \"mm\" : 23, \"ss\" : 57}\n",
        "endtime = {\"HH\" : 15, \"mm\" : 25, \"ss\" :43}\n",
        "\n",
        "print (starttime [\"HH\"])\n",
        "print (starttime [\"mm\"])\n",
        "print (starttime [\"ss\"])\n",
        "\n",
        "print (endtime [\"HH\"])\n",
        "print (endtime [\"mm\"])\n",
        "print (endtime [\"ss\"])"
      ],
      "metadata": {
        "id": "nuhq4OD1TXWi",
        "outputId": "b2375b0c-9f87-4af2-faf2-6733f3354ee3",
        "colab": {
          "base_uri": "https://localhost:8080/"
        }
      },
      "execution_count": 8,
      "outputs": [
        {
          "output_type": "stream",
          "name": "stdout",
          "text": [
            "9\n",
            "23\n",
            "57\n",
            "15\n",
            "25\n",
            "43\n"
          ]
        }
      ]
    },
    {
      "cell_type": "code",
      "source": [
        "katalog_indomaret = {'kecap', 'indomie', 'micellar water', 'fanta'}\n",
        "katalog_alfamart = {'cocacola', 'indomie', 'sosiskanzler', 'micellar water'}\n",
        "\n",
        "#katalog_lengkap\n",
        "union = katalog_indomaret.union(katalog_alfamart)\n",
        "\n",
        "intersection = katalog_indomaret.intersection(katalog_alfamart)\n",
        "\n",
        "print (\"union:\", union)\n",
        "print (\"intersection:\", intersection)\n"
      ],
      "metadata": {
        "id": "D9-3euUcVoia",
        "outputId": "a6913381-7b9d-4361-9744-4a6627e37159",
        "colab": {
          "base_uri": "https://localhost:8080/"
        }
      },
      "execution_count": 9,
      "outputs": [
        {
          "output_type": "stream",
          "name": "stdout",
          "text": [
            "union: {'kecap', 'cocacola', 'indomie', 'fanta', 'sosiskanzler', 'micellar water'}\n",
            "intersection: {'indomie', 'micellar water'}\n"
          ]
        }
      ]
    }
  ],
  "metadata": {
    "colab": {
      "name": "Selamat Datang di Colab",
      "toc_visible": true,
      "provenance": [],
      "include_colab_link": true
    },
    "kernelspec": {
      "display_name": "Python 3",
      "name": "python3"
    }
  },
  "nbformat": 4,
  "nbformat_minor": 0
}