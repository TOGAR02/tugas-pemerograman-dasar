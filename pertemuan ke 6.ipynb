{
  "cells": [
    {
      "cell_type": "markdown",
      "metadata": {
        "id": "view-in-github",
        "colab_type": "text"
      },
      "source": [
        "<a href=\"https://colab.research.google.com/github/TOGAR02/tugas-pemerograman-dasar/blob/main/pertemuan%20ke%206.ipynb\" target=\"_parent\"><img src=\"https://colab.research.google.com/assets/colab-badge.svg\" alt=\"Open In Colab\"/></a>"
      ]
    },
    {
      "cell_type": "code",
      "source": [
        "# SOAL 1: Fungsi Inisialisasi Sederhana\n",
        "def sapa_praktikan():\n",
        "    \"\"\"Mencetak pesan sambutan dasar.\"\"\"\n",
        "    print(\"Sistem siap. Selamat datang kembali di sesi praktikum.\")\n",
        "\n",
        "# Pemanggilan:\n",
        "sapa_praktikan()"
      ],
      "metadata": {
        "id": "Fo188fWIWnJT",
        "outputId": "e0f5b447-2cea-4f93-d30d-1bba9b7013b4",
        "colab": {
          "base_uri": "https://localhost:8080/"
        }
      },
      "execution_count": null,
      "outputs": [
        {
          "output_type": "stream",
          "name": "stdout",
          "text": [
            "Sistem siap. Selamat datang kembali di sesi praktikum.\n"
          ]
        }
      ]
    },
    {
      "cell_type": "code",
      "source": [
        "# SOAL 2: Menghitung Volume Kubus\n",
        "def hitung_volume_kubus(sisi):\n",
        "    \"\"\"Menghitung volume kubus dari panjang sisinya.\"\"\"\n",
        "    return sisi ** 3\n",
        "\n",
        "# Pemanggilan:\n",
        "panjang_sisi = 5\n",
        "print(f\"Volume kubus dengan sisi {panjang_sisi} adalah: {hitung_volume_kubus(panjang_sisi)}\")"
      ],
      "metadata": {
        "id": "-EGDz-9ncE-L",
        "outputId": "915e9aa0-9c72-4a3b-842f-46e89d98c211",
        "colab": {
          "base_uri": "https://localhost:8080/"
        }
      },
      "execution_count": null,
      "outputs": [
        {
          "output_type": "stream",
          "name": "stdout",
          "text": [
            "Volume kubus dengan sisi 5 adalah: 125\n"
          ]
        }
      ]
    },
    {
      "cell_type": "code",
      "source": [
        "# SOAL 3: Menghitung Rata-rata dari List Nilai\n",
        "def hitung_rata_rata(data_nilai):\n",
        "    \"\"\"Menghitung rata-rata dari list angka menggunakan perulangan for.\"\"\"\n",
        "    total = 0\n",
        "\n",
        "    # Perulangan untuk menjumlahkan nilai\n",
        "    for nilai in data_nilai:\n",
        "        total += nilai\n",
        "\n",
        "    # Pembagian untuk rata-rata\n",
        "    if total > 0:\n",
        "        return total / len(data_nilai)\n",
        "    return 0\n",
        "\n",
        "# Pemanggilan:\n",
        "nilai_praktikan = [85, 78, 92, 65, 90]\n",
        "print(f\"Nilai rata-rata kelas adalah: {hitung_rata_rata(nilai_praktikan)}\")"
      ],
      "metadata": {
        "outputId": "32b58b33-af06-4277-bf07-9366798ec259",
        "colab": {
          "base_uri": "https://localhost:8080/"
        },
        "id": "4K4lOgdTcknH"
      },
      "execution_count": null,
      "outputs": [
        {
          "output_type": "stream",
          "name": "stdout",
          "text": [
            "Nilai rata-rata kelas adalah: 82.0\n"
          ]
        }
      ]
    },
    {
      "cell_type": "code",
      "source": [
        "# SOAL 4: Sistem Penentuan Predikat Nilai\n",
        "def tentukan_predikat(skor):\n",
        "    \"\"\"Menentukan predikat (A, B, C, D, E) berdasarkan skor.\"\"\"\n",
        "    if skor >= 85:\n",
        "        return \"A\"\n",
        "    elif skor >= 76:\n",
        "        return \"B\"\n",
        "    elif skor >= 60:\n",
        "        return \"C\"\n",
        "    elif skor >= 50:\n",
        "        return \"D\"\n",
        "    else:\n",
        "        return \"E\"\n",
        "\n",
        "# Pemanggilan:\n",
        "print(f\"Skor 75 mendapat predikat: {tentukan_predikat(75)}\")\n",
        "print(f\"Skor 48 mendapat predikat: {tentukan_predikat(48)}\")"
      ],
      "metadata": {
        "id": "N7js5ondcqQk",
        "outputId": "84b9b7c5-c6e4-4c11-fa61-f86ea32a0f3f",
        "colab": {
          "base_uri": "https://localhost:8080/"
        }
      },
      "execution_count": null,
      "outputs": [
        {
          "output_type": "stream",
          "name": "stdout",
          "text": [
            "Skor 75 mendapat predikat: C\n",
            "Skor 48 mendapat predikat: E\n"
          ]
        }
      ]
    },
    {
      "cell_type": "code",
      "source": [
        "# SOAL 5: Menghitung Faktorial dengan Loop While\n",
        "def hitung_faktorial(n):\n",
        "    \"\"\"Menghitung faktorial dari bilangan bulat positif n.\"\"\"\n",
        "\n",
        "    if not isinstance(n, int):\n",
        "        return \"Error: Input harus berupa bilangan bulat (int).\"\n",
        "\n",
        "    if n < 0:\n",
        "        return \"Error: Faktorial tidak terdefinisi untuk bilangan negatif.\"\n",
        "\n",
        "    if n == 0:\n",
        "        return 1\n",
        "\n",
        "    hasil = 1\n",
        "\n",
        "    while n > 1:\n",
        "        hasil *= n\n",
        "        n -= 1  # Kurangi n setiap iterasi\n",
        "\n",
        "    return hasil\n",
        "\n",
        "\n",
        "bilangan_n = 4\n",
        "print(f\"Faktorial dari {bilangan_n} adalah: {hitung_faktorial(bilangan_n)}\")\n",
        "\n",
        "\n",
        "print(hitung_faktorial(0))\n",
        "print(hitung_faktorial(-3))\n",
        "print(hitung_faktorial(5.5))"
      ],
      "metadata": {
        "id": "Tni9jz19fGGW",
        "outputId": "8a1cd875-94be-461c-8456-ecb82174df5f",
        "colab": {
          "base_uri": "https://localhost:8080/"
        }
      },
      "execution_count": null,
      "outputs": [
        {
          "output_type": "stream",
          "name": "stdout",
          "text": [
            "Faktorial dari 4 adalah: 24\n",
            "1\n",
            "Error: Faktorial tidak terdefinisi untuk bilangan negatif.\n",
            "Error: Input harus berupa bilangan bulat (int).\n"
          ]
        }
      ]
    },
    {
      "cell_type": "code",
      "source": [
        "# SOAL 6: Analisis Data Suhu Ekstrem (for dan if/elif)\n",
        "def analisis_suhu(data_suhu, batas_panas=35, batas_dingin=15):\n",
        "    \"\"\"Menghitung jumlah hari Panas dan Dingin dari data_suhu.\"\"\"\n",
        "    panas_count = 0\n",
        "    dingin_count = 0\n",
        "\n",
        "    for suhu in data_suhu:\n",
        "        if suhu >= 35:\n",
        "            panas_count += 1\n",
        "        elif suhu <= batas_dingin:\n",
        "            dingin_count += 1\n",
        "\n",
        "    return panas_count, dingin_count\n",
        "\n",
        "# Pemanggilan:\n",
        "suhu_mingguan = [36, 30, 14, 25, 38, 16, 28]\n",
        "jumlah_panas, jumlah_dingin = analisis_suhu(suhu_mingguan)\n",
        "print(f\"Jumlah hari Panas (>=35°C): {jumlah_panas}\")\n",
        "print(f\"Jumlah hari Dingin (<=15°C): {jumlah_dingin}\")"
      ],
      "metadata": {
        "colab": {
          "base_uri": "https://localhost:8080/"
        },
        "id": "icRUTc-hXtUL",
        "outputId": "b92e5268-1792-40da-a90d-efd809b2c7ad"
      },
      "execution_count": null,
      "outputs": [
        {
          "output_type": "stream",
          "name": "stdout",
          "text": [
            "Jumlah hari Panas (>=35°C): 2\n",
            "Jumlah hari Dingin (<=15°C): 1\n"
          ]
        }
      ]
    }
  ],
  "metadata": {
    "colab": {
      "name": "Selamat Datang di Colab",
      "toc_visible": true,
      "provenance": [],
      "include_colab_link": true
    },
    "kernelspec": {
      "display_name": "Python 3",
      "name": "python3"
    }
  },
  "nbformat": 4,
  "nbformat_minor": 0
}