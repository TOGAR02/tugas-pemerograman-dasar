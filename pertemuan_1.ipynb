{
  "nbformat": 4,
  "nbformat_minor": 0,
  "metadata": {
    "colab": {
      "provenance": [],
      "authorship_tag": "ABX9TyOzr3r09WG6HqSPgW3F55Zp",
      "include_colab_link": true
    },
    "kernelspec": {
      "name": "python3",
      "display_name": "Python 3"
    },
    "language_info": {
      "name": "python"
    }
  },
  "cells": [
    {
      "cell_type": "markdown",
      "metadata": {
        "id": "view-in-github",
        "colab_type": "text"
      },
      "source": [
        "<a href=\"https://colab.research.google.com/github/TOGAR02/tugas-pemerograman-dasar/blob/main/pertemuan_1.ipynb\" target=\"_parent\"><img src=\"https://colab.research.google.com/assets/colab-badge.svg\" alt=\"Open In Colab\"/></a>"
      ]
    },
    {
      "cell_type": "code",
      "execution_count": 7,
      "metadata": {
        "id": "weRKfgbtg5nQ",
        "colab": {
          "base_uri": "https://localhost:8080/"
        },
        "outputId": "5d234a1a-7bef-473c-fd1d-c8193457697a"
      },
      "outputs": [
        {
          "output_type": "stream",
          "name": "stdout",
          "text": [
            "togar\n",
            "22\n",
            "RPE\n",
            "3\n",
            "pemerograman dasar\n",
            "False\n",
            "perumahan cipta laguna 2\n",
            "smkn_3_dumai\n",
            "dumai_02_12_2003\n"
          ]
        }
      ],
      "source": [
        "# Biodata saya\n",
        "\n",
        "nama = \"togar\"\n",
        "umur = 22\n",
        "jurusan = \"RPE\"\n",
        "semester = \"3\"\n",
        "matakuliah = 'pemerograman dasar'\n",
        "status_lulus = False\n",
        "alamat = \"perumahan cipta laguna 2\"\n",
        "asal_sekolah = \"smkn_3_dumai\"\n",
        "tempat_tgl_lahir = \"dumai_02_12_2003\"\n",
        "\n",
        "print (nama)\n",
        "print (umur)\n",
        "print (jurusan)\n",
        "print (semester)\n",
        "print (matakuliah)\n",
        "print (status_lulus)\n",
        "print (alamat)\n",
        "print (asal_sekolah)\n",
        "print (tempat_tgl_lahir)\n",
        "\n"
      ]
    }
  ]
}