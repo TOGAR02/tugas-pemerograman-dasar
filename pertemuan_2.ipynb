{
  "cells": [
    {
      "cell_type": "markdown",
      "metadata": {
        "id": "view-in-github",
        "colab_type": "text"
      },
      "source": [
        "<a href=\"https://colab.research.google.com/github/TOGAR02/tugas-pemerograman-dasar/blob/main/pertemuan_2.ipynb\" target=\"_parent\"><img src=\"https://colab.research.google.com/assets/colab-badge.svg\" alt=\"Open In Colab\"/></a>"
      ]
    },
    {
      "cell_type": "markdown",
      "source": [
        "# New Section"
      ],
      "metadata": {
        "id": "3WWPS4T6WDRD"
      }
    },
    {
      "cell_type": "code",
      "source": [
        "# deklarasi variabel list\n",
        "numbers = [23,43,15,34]\n",
        "# cara mengakses elemen dalam variabel list\n",
        "numbers [0] # 23\n",
        "numbers [1] # 43\n",
        "numbers [2] # 15\n",
        "numbers [3] # 34\n",
        "# cara mengubah nilai elemen dalam variabel list\n",
        "numbers [2] # 51\n",
        "numbers [2] # 51\n",
        "\n",
        "print (numbers [0])\n",
        "print (numbers [1])\n",
        "print (numbers [2])\n",
        "print (numbers [3])"
      ],
      "metadata": {
        "colab": {
          "base_uri": "https://localhost:8080/"
        },
        "id": "dPerb_DBWGey",
        "outputId": "187fc618-5f50-4b2f-f6e1-17f869829d3d"
      },
      "execution_count": null,
      "outputs": [
        {
          "output_type": "stream",
          "name": "stdout",
          "text": [
            "23\n",
            "43\n",
            "15\n",
            "34\n"
          ]
        }
      ]
    },
    {
      "cell_type": "code",
      "source": [
        "# deklarasi variabel list\n",
        "numbers = [1,2,3]\n",
        "\n",
        "# menambahkan elemen di indeks ke-4\n",
        "numbers.insert (4,5)  # [1,2,3,5]\n",
        "\n",
        "# menambahkan elemen di indeks ke-4\n",
        "numbers [3] = 4    # [1,2,3,5]\n",
        "\n",
        "# menghapus di elemen indeks ke-2\n",
        "numbers.pop(2)   # [1,2,4]\n",
        "\n",
        "#print lalu lihat hasilnya\n",
        "\n",
        "\n"
      ],
      "metadata": {
        "colab": {
          "base_uri": "https://localhost:8080/"
        },
        "id": "UmH-RZC1Zhcx",
        "outputId": "fc89d9be-0cb7-4e5a-abb5-5d1e828a0ac5"
      },
      "execution_count": null,
      "outputs": [
        {
          "output_type": "execute_result",
          "data": {
            "text/plain": [
              "3"
            ]
          },
          "metadata": {},
          "execution_count": 3
        }
      ]
    },
    {
      "cell_type": "code",
      "source": [
        "# deklarasi variabel list\n",
        "mylist = [1,\"rumah\",4.5,true,[\"kamar mandi\",\"kamar tidur\"]]\n",
        "\n",
        "# cara mengakses elemen dalam variabel list\n",
        "mylist [0] # 1\n",
        "mylist [1] # \"rumah\"\n",
        "mylist [3] # true\n",
        "mylist [4] # [\"kamar mandi\",\"kamar tidur\"]\n",
        "\n",
        "# cara mengakses elemen dalam sublist\n",
        "mylist [4] [0] # \"kamar mandi\"\n",
        "mylist [4] [1] # \"kamar tidur\""
      ],
      "metadata": {
        "id": "xzESsMXEbsxz"
      },
      "execution_count": null,
      "outputs": []
    }
  ],
  "metadata": {
    "colab": {
      "toc_visible": true,
      "provenance": [],
      "include_colab_link": true
    },
    "kernelspec": {
      "display_name": "Python 3",
      "name": "python3"
    }
  },
  "nbformat": 4,
  "nbformat_minor": 0
}