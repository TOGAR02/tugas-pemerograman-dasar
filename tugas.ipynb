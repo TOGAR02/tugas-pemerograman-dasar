{
  "cells": [
    {
      "cell_type": "markdown",
      "metadata": {
        "id": "view-in-github",
        "colab_type": "text"
      },
      "source": [
        "<a href=\"https://colab.research.google.com/github/TOGAR02/tugas-pemerograman-dasar/blob/main/tugas.ipynb\" target=\"_parent\"><img src=\"https://colab.research.google.com/assets/colab-badge.svg\" alt=\"Open In Colab\"/></a>"
      ]
    },
    {
      "cell_type": "code",
      "source": [
        "firstname = \"togar\"\n",
        "lastname = \"simarmata\"\n",
        "age = 21\n",
        "ismarried = False\n",
        "\n",
        "print (firstname)\n",
        "print (lastname)\n",
        "print (age)\n",
        "print (ismarried)"
      ],
      "metadata": {
        "id": "peD7dMzVp1nM",
        "outputId": "7f8b62b0-5efd-4dab-fa31-41384e15a764",
        "colab": {
          "base_uri": "https://localhost:8080/"
        }
      },
      "execution_count": 6,
      "outputs": [
        {
          "output_type": "stream",
          "name": "stdout",
          "text": [
            "togar\n",
            "simarmata\n",
            "21\n",
            "False\n"
          ]
        }
      ]
    },
    {
      "cell_type": "code",
      "source": [
        "data_diri = (\n",
        "    \"firstname\": \"togar\",\n",
        "    \"lastname\": \"simarmata\",\n",
        "    \"age\": 21,\n",
        "    \"ismarried\": False\n",
        "    )\n",
        "\n",
        "print (firstname)\n",
        "print (lastname)\n",
        "print (age)\n",
        "print (ismarried)\n"
      ],
      "metadata": {
        "id": "w6mvzagmrOP5",
        "outputId": "3a5200fb-5d59-4a91-987d-66e412898561",
        "colab": {
          "base_uri": "https://localhost:8080/",
          "height": 106
        }
      },
      "execution_count": 12,
      "outputs": [
        {
          "output_type": "error",
          "ename": "SyntaxError",
          "evalue": "invalid syntax (ipython-input-1744637489.py, line 2)",
          "traceback": [
            "\u001b[0;36m  File \u001b[0;32m\"/tmp/ipython-input-1744637489.py\"\u001b[0;36m, line \u001b[0;32m2\u001b[0m\n\u001b[0;31m    \"firstname\": \"togar\",\u001b[0m\n\u001b[0m               ^\u001b[0m\n\u001b[0;31mSyntaxError\u001b[0m\u001b[0;31m:\u001b[0m invalid syntax\n"
          ]
        }
      ]
    }
  ],
  "metadata": {
    "colab": {
      "name": "Selamat Datang di Colab",
      "toc_visible": true,
      "provenance": [],
      "include_colab_link": true
    },
    "kernelspec": {
      "display_name": "Python 3",
      "name": "python3"
    }
  },
  "nbformat": 4,
  "nbformat_minor": 0
}