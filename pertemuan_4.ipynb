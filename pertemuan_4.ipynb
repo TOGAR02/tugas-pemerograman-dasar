{
  "cells": [
    {
      "cell_type": "markdown",
      "metadata": {
        "id": "view-in-github",
        "colab_type": "text"
      },
      "source": [
        "<a href=\"https://colab.research.google.com/github/TOGAR02/tugas-pemerograman-dasar/blob/main/pertemuan_4.ipynb\" target=\"_parent\"><img src=\"https://colab.research.google.com/assets/colab-badge.svg\" alt=\"Open In Colab\"/></a>"
      ]
    },
    {
      "cell_type": "code",
      "source": [
        "umur = input (\"21 :\")\n",
        "if int(umur) >= 18:\n",
        "  print (\"kamu boleh membuat sim\")\n",
        "else :\n",
        "  print (\"kamu belum boleh membuat sim\")"
      ],
      "metadata": {
        "id": "O3YBh1dQaUgx",
        "outputId": "e18c0e7a-e91e-4b21-c104-6d45ccb04cdb",
        "colab": {
          "base_uri": "https://localhost:8080/"
        }
      },
      "execution_count": 11,
      "outputs": [
        {
          "output_type": "stream",
          "name": "stdout",
          "text": [
            "21 :21\n",
            "kamu boleh membuat sim\n"
          ]
        }
      ]
    },
    {
      "cell_type": "code",
      "source": [
        "total_belanja = 500000\n",
        "\n",
        "if total_belanja > 200000:\n",
        "  diskon = total_belanja * 0.10\n",
        "  total_bayar = total_belanja - diskon\n",
        "  print (f\"kamu mendapat diskon! Total bayar: Rp {total_bayar}\")\n",
        "else:\n",
        "  print (f\"total bayar = Rp {total_belanja}\")"
      ],
      "metadata": {
        "id": "zLaaTBNXbqOQ",
        "outputId": "e9ef8f0a-d772-43f2-b730-43e57accc599",
        "colab": {
          "base_uri": "https://localhost:8080/"
        }
      },
      "execution_count": 17,
      "outputs": [
        {
          "output_type": "stream",
          "name": "stdout",
          "text": [
            "kamu mendapat diskon! Total bayar: Rp 450000.0\n"
          ]
        }
      ]
    },
    {
      "cell_type": "code",
      "source": [
        "angka = int(input(\"21: \"))\n",
        "\n",
        "if angka %2 == 0:\n",
        "  print (\"bilangan genap\")\n",
        "else:\n",
        "  print (\"bilangan ganjil\")"
      ],
      "metadata": {
        "id": "xvitxBa_eLHk",
        "outputId": "6ca0af5b-c1d2-4377-bce4-84e77fd30cca",
        "colab": {
          "base_uri": "https://localhost:8080/"
        }
      },
      "execution_count": 20,
      "outputs": [
        {
          "output_type": "stream",
          "name": "stdout",
          "text": [
            "21: 19\n",
            "bilangan ganjil\n"
          ]
        }
      ]
    },
    {
      "cell_type": "code",
      "source": [
        "nilai = 1000\n",
        "\n",
        "if nilai >= 85:\n",
        "  print (\"luar biasa! Nilai A\")\n",
        "elif nilai >=70:\n",
        "  print (\"bagus! Nilai B\")\n",
        "elif nilai >= 60:\n",
        "  print (\"cukup. Nilai C\")\n",
        "else:\n",
        "  print (\"nilai kurang! perlu belajar lebih giat\")"
      ],
      "metadata": {
        "id": "WmdxUmOvfIrg",
        "outputId": "65deea23-d4d5-4115-aaab-9d3926473566",
        "colab": {
          "base_uri": "https://localhost:8080/"
        }
      },
      "execution_count": 22,
      "outputs": [
        {
          "output_type": "stream",
          "name": "stdout",
          "text": [
            "luar biasa! Nilai A\n"
          ]
        }
      ]
    }
  ],
  "metadata": {
    "colab": {
      "name": "Selamat Datang di Colab",
      "toc_visible": true,
      "provenance": [],
      "include_colab_link": true
    },
    "kernelspec": {
      "display_name": "Python 3",
      "name": "python3"
    }
  },
  "nbformat": 4,
  "nbformat_minor": 0
}