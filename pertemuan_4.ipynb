{
  "cells": [
    {
      "cell_type": "markdown",
      "metadata": {
        "id": "view-in-github",
        "colab_type": "text"
      },
      "source": [
        "<a href=\"https://colab.research.google.com/github/TOGAR02/tugas-pemerograman-dasar/blob/main/pertemuan_4.ipynb\" target=\"_parent\"><img src=\"https://colab.research.google.com/assets/colab-badge.svg\" alt=\"Open In Colab\"/></a>"
      ]
    },
    {
      "cell_type": "code",
      "source": [
        "Iangka = int(input(\"15: \"))\n",
        "if angka %5 == 0:\n",
        "  print (\"kelipatan 5\")\n",
        "else:\n",
        "  print (\"bukan kelipatan 5\")"
      ],
      "metadata": {
        "colab": {
          "base_uri": "https://localhost:8080/"
        },
        "id": "JDadGs-Tizp0",
        "outputId": "45f8ded8-7328-453d-e597-460abaae6c50"
      },
      "execution_count": null,
      "outputs": [
        {
          "output_type": "stream",
          "name": "stdout",
          "text": [
            "15: 15\n",
            "kelipatan 5\n"
          ]
        }
      ]
    },
    {
      "cell_type": "code",
      "source": [
        "def cek_kabisat (tahun):\n",
        "  if tahun % 400 == 0:\n",
        "    return (\"tahun kabisat\")\n",
        "  elif tahun % 4 == 0 and tahun % 100 != 0:\n",
        "    return (\"tahun kabisat\")\n",
        "  else:\n",
        "    return (\"bukan tahun kabisat\")\n",
        "\n",
        "tahun1 = int(input(\"2010\"))\n",
        "tahun2 = int(input(\"2024\"))\n",
        "\n",
        "print (f\"{tahun1} {cek_kabisat(tahun1)}\")\n",
        "print (f\"{tahun2} {cek_kabisat(tahun2)}\")"
      ],
      "metadata": {
        "id": "HUnddNTosjCP",
        "outputId": "952b39a4-a9e3-4add-e501-5fae5b46b799",
        "colab": {
          "base_uri": "https://localhost:8080/"
        }
      },
      "execution_count": null,
      "outputs": [
        {
          "output_type": "stream",
          "name": "stdout",
          "text": [
            "20102010\n",
            "20242024\n",
            "2010 bukan tahun kabisat\n",
            "2024 tahun kabisat\n"
          ]
        }
      ]
    },
    {
      "cell_type": "code",
      "source": [
        "# Angka langsung ditentukan\n",
        "a = 25\n",
        "b = 30\n",
        "\n",
        "# Pilih operasi\n",
        "operasi = input(\"Pilih operasi (+, -, *, /): \")\n",
        "\n",
        "if operasi == \"+\":\n",
        "    hasil = a + b\n",
        "elif operasi == \"-\":\n",
        "    hasil = a - b\n",
        "elif operasi == \"*\":\n",
        "    hasil = a * b\n",
        "elif operasi == \"/\":\n",
        "    hasil = a / b\n",
        "else:\n",
        "    hasil = \"operasi tidak valid\"\n",
        "\n",
        "print(f\"Hasil dari {a} {operasi} {b} = {hasil}\")\n"
      ],
      "metadata": {
        "id": "7lEc9qgt0JvL",
        "outputId": "ab1e4531-c676-4900-83e2-905eb5db494b",
        "colab": {
          "base_uri": "https://localhost:8080/"
        }
      },
      "execution_count": null,
      "outputs": [
        {
          "output_type": "stream",
          "name": "stdout",
          "text": [
            "Pilih operasi (+, -, *, /): *\n",
            "Hasil dari 25 * 30 = 750\n"
          ]
        }
      ]
    },
    {
      "cell_type": "code",
      "source": [
        "bulan = int(input(\"1,2,3,4,5,6,7,8,9,10,11,12): \"))\n",
        "if bulan == 1:\n",
        "    print(\"Januari\")\n",
        "elif bulan == 2:\n",
        "    print(\"Februari\")\n",
        "elif bulan == 3:\n",
        "    print(\"Maret\")\n",
        "elif bulan == 4:\n",
        "    print(\"April\")\n",
        "elif bulan == 5:\n",
        "    print(\"Mei\")\n",
        "elif bulan == 6:\n",
        "    print(\"Juni\")\n",
        "elif bulan == 7:\n",
        "    print(\"Juli\")\n",
        "elif bulan == 8:\n",
        "    print(\"Agustus\")\n",
        "elif bulan == 9:\n",
        "    print(\"September\")\n",
        "elif bulan == 10:\n",
        "    print(\"Oktober\")\n",
        "elif bulan == 11:\n",
        "    print(\"November\")\n",
        "elif bulan == 12:\n",
        "    print(\"Desember\")\n",
        "else:\n",
        "    print(\"Input salah\")"
      ],
      "metadata": {
        "id": "B8ZSK6-5106j",
        "outputId": "e1e65b7d-1cb7-478f-cf0a-1b0445800e71",
        "colab": {
          "base_uri": "https://localhost:8080/"
        }
      },
      "execution_count": null,
      "outputs": [
        {
          "output_type": "stream",
          "name": "stdout",
          "text": [
            "1,2,3,4,5,6,7,8,9,10,11,12): 4\n",
            "April\n"
          ]
        }
      ]
    },
    {
      "cell_type": "code",
      "source": [
        "jam = int(input(\"0,1,2,3,4,5,6,7,8,9,10,11,12,13,14,15,16,17,18,19,20,21,22,23: \"))\n",
        "if 0 <= jam <= 11:\n",
        "    print(\"Selamat Pagi\")\n",
        "elif 12 <= jam <= 15:\n",
        "    print(\"Selamat Siang\")\n",
        "elif 16 <= jam <= 18:\n",
        "    print(\"Selamat Sore\")\n",
        "elif 19 <= jam <= 23:\n",
        "    print(\"Selamat Malam\")\n",
        "else:\n",
        "    print(\"Jam tidak valid\")"
      ],
      "metadata": {
        "id": "tfFusC2u4IQ0",
        "outputId": "b77ddcb2-c940-4159-f746-5c373f42c30c",
        "colab": {
          "base_uri": "https://localhost:8080/"
        }
      },
      "execution_count": null,
      "outputs": [
        {
          "output_type": "stream",
          "name": "stdout",
          "text": [
            "0,1,2,3,4,5,6,7,8,9,10,11,12,13,14,15,16,17,18,19,20,21,22,23: 15\n",
            "Selamat Siang\n"
          ]
        }
      ]
    },
    {
      "cell_type": "code",
      "source": [
        "print(\"=\"*30)\n",
        "print(\"SELAMAT DATANG DI KAFE GEMINI\")\n",
        "print(\"=\"*30)\n",
        "print(\"Menu Makanan & Minuman:\")\n",
        "print(\"1. Kopi Hitam  - Rp 12.000\")\n",
        "print(\"2. Roti Manis  - Rp 8.000\")\n",
        "print(\"3. Roti Bakar  - Rp 15.000\")\n",
        "print(\"4. Mie Instan  - Rp 10.000\")\n",
        "print(\"=\"*30)\n",
        "\n",
        "# === PESANAN 1 ===\n",
        "pilihan1 = int(input(\"1: \"))\n",
        "jumlah1 = int(input(\"1: \"))\n",
        "if pilihan1 == 1:\n",
        "    harga1 = 12000\n",
        "    nama1 = \"Kopi Hitam\"\n",
        "elif pilihan1 == 2:\n",
        "    harga1 = 8000\n",
        "    nama1 = \"Roti Manis\"\n",
        "elif pilihan1 == 3:\n",
        "    harga1 = 15000\n",
        "    nama1 = \"Roti Bakar\"\n",
        "elif pilihan1 == 4:\n",
        "    harga1 = 10000\n",
        "    nama1 = \"Mie Instan\"\n",
        "else:\n",
        "    print(\"Pilihan tidak valid.\")\n",
        "    exit()\n",
        "\n",
        "# === PESANAN 2 ===\n",
        "pilihan2 = int(input(\"2: \"))\n",
        "jumlah2 = int(input(\"1: \"))\n",
        "if pilihan2 == 1:\n",
        "    harga2 = 12000\n",
        "    nama2 = \"Kopi Hitam\"\n",
        "elif pilihan2 == 2:\n",
        "    harga2 = 8000\n",
        "    nama2 = \"Roti Manis\"\n",
        "elif pilihan2 == 3:\n",
        "    harga2 = 15000\n",
        "    nama2 = \"Roti Bakar\"\n",
        "elif pilihan2 == 4:\n",
        "    harga2 = 10000\n",
        "    nama2 = \"Mie Instan\"\n",
        "else:\n",
        "    print(\"Pilihan tidak valid.\")\n",
        "    exit()\n",
        "\n",
        "# === PESANAN 3 ===\n",
        "pilihan3 = int(input(\"4: \"))\n",
        "jumlah3 = int(input(\"1: \"))\n",
        "if pilihan3 == 1:\n",
        "    harga3 = 12000\n",
        "    nama3 = \"Kopi Hitam\"\n",
        "elif pilihan3 == 2:\n",
        "    harga3 = 8000\n",
        "    nama3 = \"Roti Manis\"\n",
        "elif pilihan3 == 3:\n",
        "    harga3 = 15000\n",
        "    nama3 = \"Roti Bakar\"\n",
        "elif pilihan3 == 4:\n",
        "    harga3 = 10000\n",
        "    nama3 = \"Mie Instan\"\n",
        "else:\n",
        "    print(\"Pilihan tidak valid.\")\n",
        "    exit()\n",
        "\n",
        "# === HITUNG TOTAL ===\n",
        "total = (harga1 * jumlah1) + (harga2 * jumlah2) + (harga3 * jumlah3)\n",
        "\n",
        "print(\"\\nPesanan Anda:\")\n",
        "print(f\"{nama1} x{jumlah1} = Rp {harga1 * jumlah1}\")\n",
        "print(f\"{nama2} x{jumlah2} = Rp {harga2 * jumlah2}\")\n",
        "print(f\"{nama3} x{jumlah3} = Rp {harga3 * jumlah3}\")\n",
        "print(\"-\"*30)\n",
        "print(f\"Total sebelum diskon: Rp {total}\")\n",
        "\n",
        "# === DISKON ===\n",
        "if total >= 50000:\n",
        "    diskon = 0.70\n",
        "elif total >= 30000:\n",
        "    diskon = 0.50\n",
        "elif total >= 20000:\n",
        "    diskon = 0.30\n",
        "else:\n",
        "    diskon = 0\n",
        "\n",
        "potongan = total * diskon\n",
        "total_bayar = total - potongan\n",
        "\n",
        "print(f\"Diskon {int(diskon*100)}% : Rp {int(potongan)}\")\n",
        "print(f\"Total yang harus dibayar: Rp {int(total_bayar)}\")\n",
        "\n",
        "\n",
        "uang = int(input(\"30000: Rp \"))\n",
        "if uang >= total_bayar:\n",
        "    print(f\"Kembalian Anda: Rp {uang - total_bayar}\")\n",
        "else:\n",
        "    print(f\"Uang Anda kurang Rp {total_bayar - uang}\")\n",
        "\n",
        "print(\"=\"*30)\n",
        "print(\"Terima kasih telah berbelanja di Kafe Gemini!\")\n"
      ],
      "metadata": {
        "colab": {
          "base_uri": "https://localhost:8080/"
        },
        "id": "WLrAxRXLaHIr",
        "outputId": "e1b29270-bb7f-4e72-808b-b353a2b7b3e3"
      },
      "execution_count": 1,
      "outputs": [
        {
          "output_type": "stream",
          "name": "stdout",
          "text": [
            "==============================\n",
            "SELAMAT DATANG DI KAFE GEMINI\n",
            "==============================\n",
            "Menu Makanan & Minuman:\n",
            "1. Kopi Hitam  - Rp 12.000\n",
            "2. Roti Manis  - Rp 8.000\n",
            "3. Roti Bakar  - Rp 15.000\n",
            "4. Mie Instan  - Rp 10.000\n",
            "==============================\n",
            "1: 1\n",
            "1: 1\n",
            "2: 2\n",
            "1: 1\n",
            "4: 4\n",
            "1: 1\n",
            "\n",
            "Pesanan Anda:\n",
            "Kopi Hitam x1 = Rp 12000\n",
            "Roti Manis x1 = Rp 8000\n",
            "Mie Instan x1 = Rp 10000\n",
            "------------------------------\n",
            "Total sebelum diskon: Rp 30000\n",
            "Diskon 50% : Rp 15000\n",
            "Total yang harus dibayar: Rp 15000\n",
            "30000: Rp 30000\n",
            "Kembalian Anda: Rp 15000.0\n",
            "==============================\n",
            "Terima kasih telah berbelanja di Kafe Gemini!\n"
          ]
        }
      ]
    },
    {
      "cell_type": "code",
      "source": [],
      "metadata": {
        "id": "pPlqXCg4f8PZ"
      },
      "execution_count": null,
      "outputs": []
    }
  ],
  "metadata": {
    "colab": {
      "name": "Selamat Datang di Colab",
      "toc_visible": true,
      "provenance": [],
      "include_colab_link": true
    },
    "kernelspec": {
      "display_name": "Python 3",
      "name": "python3"
    }
  },
  "nbformat": 4,
  "nbformat_minor": 0
}