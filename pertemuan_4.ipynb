{
  "cells": [
    {
      "cell_type": "markdown",
      "metadata": {
        "id": "view-in-github",
        "colab_type": "text"
      },
      "source": [
        "<a href=\"https://colab.research.google.com/github/TOGAR02/tugas-pemerograman-dasar/blob/main/pertemuan_4.ipynb\" target=\"_parent\"><img src=\"https://colab.research.google.com/assets/colab-badge.svg\" alt=\"Open In Colab\"/></a>"
      ]
    },
    {
      "cell_type": "code",
      "source": [
        "angka = int(input(\"15: \"))\n",
        "if angka %5 == 0:\n",
        "  print (\"kelipatan 5\")\n",
        "else:\n",
        "  print (\"bukan kelipatan 5\")"
      ],
      "metadata": {
        "colab": {
          "base_uri": "https://localhost:8080/"
        },
        "id": "JDadGs-Tizp0",
        "outputId": "45f8ded8-7328-453d-e597-460abaae6c50"
      },
      "execution_count": 1,
      "outputs": [
        {
          "output_type": "stream",
          "name": "stdout",
          "text": [
            "15: 15\n",
            "kelipatan 5\n"
          ]
        }
      ]
    },
    {
      "cell_type": "code",
      "source": [
        "def cek_kabisat (tahun):\n",
        "  if tahun % 400 == 0:\n",
        "    return (\"tahun kabisat\")\n",
        "  elif tahun % 4 == 0 and tahun % 100 != 0:\n",
        "    return (\"tahun kabisat\")\n",
        "  else:\n",
        "    return (\"bukan tahun kabisat\")\n",
        "\n",
        "tahun1 = int(input(\"2010\"))\n",
        "tahun2 = int(input(\"2024\"))\n",
        "\n",
        "print (f\"{tahun1} {cek_kabisat(tahun1)}\")\n",
        "print (f\"{tahun2} {cek_kabisat(tahun2)}\")"
      ],
      "metadata": {
        "id": "HUnddNTosjCP",
        "outputId": "952b39a4-a9e3-4add-e501-5fae5b46b799",
        "colab": {
          "base_uri": "https://localhost:8080/"
        }
      },
      "execution_count": 27,
      "outputs": [
        {
          "output_type": "stream",
          "name": "stdout",
          "text": [
            "20102010\n",
            "20242024\n",
            "2010 bukan tahun kabisat\n",
            "2024 tahun kabisat\n"
          ]
        }
      ]
    },
    {
      "cell_type": "code",
      "source": [
        "# Angka langsung ditentukan\n",
        "a = 25\n",
        "b = 30\n",
        "\n",
        "# Pilih operasi\n",
        "operasi = input(\"Pilih operasi (+, -, *, /): \")\n",
        "\n",
        "if operasi == \"+\":\n",
        "    hasil = a + b\n",
        "elif operasi == \"-\":\n",
        "    hasil = a - b\n",
        "elif operasi == \"*\":\n",
        "    hasil = a * b\n",
        "elif operasi == \"/\":\n",
        "    hasil = a / b\n",
        "else:\n",
        "    hasil = \"operasi tidak valid\"\n",
        "\n",
        "print(f\"Hasil dari {a} {operasi} {b} = {hasil}\")\n"
      ],
      "metadata": {
        "id": "7lEc9qgt0JvL",
        "outputId": "ab1e4531-c676-4900-83e2-905eb5db494b",
        "colab": {
          "base_uri": "https://localhost:8080/"
        }
      },
      "execution_count": 42,
      "outputs": [
        {
          "output_type": "stream",
          "name": "stdout",
          "text": [
            "Pilih operasi (+, -, *, /): *\n",
            "Hasil dari 25 * 30 = 750\n"
          ]
        }
      ]
    },
    {
      "cell_type": "code",
      "source": [
        "bulan = int(input(\"1,2,3,4,5,6,7,8,9,10,11,12): \"))\n",
        "if bulan == 1:\n",
        "    print(\"Januari\")\n",
        "elif bulan == 2:\n",
        "    print(\"Februari\")\n",
        "elif bulan == 3:\n",
        "    print(\"Maret\")\n",
        "elif bulan == 4:\n",
        "    print(\"April\")\n",
        "elif bulan == 5:\n",
        "    print(\"Mei\")\n",
        "elif bulan == 6:\n",
        "    print(\"Juni\")\n",
        "elif bulan == 7:\n",
        "    print(\"Juli\")\n",
        "elif bulan == 8:\n",
        "    print(\"Agustus\")\n",
        "elif bulan == 9:\n",
        "    print(\"September\")\n",
        "elif bulan == 10:\n",
        "    print(\"Oktober\")\n",
        "elif bulan == 11:\n",
        "    print(\"November\")\n",
        "elif bulan == 12:\n",
        "    print(\"Desember\")\n",
        "else:\n",
        "    print(\"Input salah\")"
      ],
      "metadata": {
        "id": "B8ZSK6-5106j",
        "outputId": "e1e65b7d-1cb7-478f-cf0a-1b0445800e71",
        "colab": {
          "base_uri": "https://localhost:8080/"
        }
      },
      "execution_count": 47,
      "outputs": [
        {
          "output_type": "stream",
          "name": "stdout",
          "text": [
            "1,2,3,4,5,6,7,8,9,10,11,12): 4\n",
            "April\n"
          ]
        }
      ]
    },
    {
      "cell_type": "code",
      "source": [
        "jam = int(input(\"0,1,2,3,4,5,6,7,8,9,10,11,12,13,14,15,16,17,18,19,20,21,22,23: \"))\n",
        "if 0 <= jam <= 11:\n",
        "    print(\"Selamat Pagi\")\n",
        "elif 12 <= jam <= 15:\n",
        "    print(\"Selamat Siang\")\n",
        "elif 16 <= jam <= 18:\n",
        "    print(\"Selamat Sore\")\n",
        "elif 19 <= jam <= 23:\n",
        "    print(\"Selamat Malam\")\n",
        "else:\n",
        "    print(\"Jam tidak valid\")"
      ],
      "metadata": {
        "id": "tfFusC2u4IQ0",
        "outputId": "b77ddcb2-c940-4159-f746-5c373f42c30c",
        "colab": {
          "base_uri": "https://localhost:8080/"
        }
      },
      "execution_count": 48,
      "outputs": [
        {
          "output_type": "stream",
          "name": "stdout",
          "text": [
            "0,1,2,3,4,5,6,7,8,9,10,11,12,13,14,15,16,17,18,19,20,21,22,23: 15\n",
            "Selamat Siang\n"
          ]
        }
      ]
    }
  ],
  "metadata": {
    "colab": {
      "name": "Selamat Datang di Colab",
      "toc_visible": true,
      "provenance": [],
      "include_colab_link": true
    },
    "kernelspec": {
      "display_name": "Python 3",
      "name": "python3"
    }
  },
  "nbformat": 4,
  "nbformat_minor": 0
}